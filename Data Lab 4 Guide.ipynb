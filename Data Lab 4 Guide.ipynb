{
 "cells": [
  {
   "cell_type": "markdown",
   "id": "aee8dacf",
   "metadata": {},
   "source": [
    "# Data lab 4 - Portfolio Performance Attribution and Factor Model\n",
    "\n",
    "#### Note 1: Review what you have learned in Data labs, DataCamp assignments, and in-class sample code.\n",
    "#### Note 2: Chapter \"Performance Attribution\" of DataCamp course \"Introduction to Portfolio Analysis in Python\"  is a useful reference.\n",
    "#### Note 3: This note serves as a guide. You are free to tinker with it! "
   ]
  },
  {
   "cell_type": "markdown",
   "id": "2e94cd08",
   "metadata": {},
   "source": [
    "### 1. Revisit the all-weather portfolio you crafted. Create the maximum Sharpe portfolio's daily return dataframe and then merge it with Fama French's five return factors.\n",
    "\n",
    "#### If you have attempted the optional bonus, why not include the portfolios with L2 regularization and Black-Litterman model too."
   ]
  },
  {
   "cell_type": "code",
   "execution_count": 1,
   "id": "36df558e-7777-4fc7-93f5-35f46697aa63",
   "metadata": {},
   "outputs": [],
   "source": [
    "# Import the necessary packages\n",
    "import yfinance as yf\n",
    "import datetime as dt \n",
    "import numpy as np\n",
    "import pandas as pd\n",
    "import matplotlib.pyplot as plt"
   ]
  },
  {
   "cell_type": "code",
   "execution_count": 2,
   "id": "d88a1500-97a6-4a5b-9325-59b011852086",
   "metadata": {},
   "outputs": [],
   "source": [
    "# Pick a list of stocks that form your all-weather portfolio\n",
    "# Draw data for the past five years\n",
    "\n",
    "#Illustrative, change into yours!\n"
   ]
  },
  {
   "cell_type": "code",
   "execution_count": 3,
   "id": "ba37276e-d8ff-4209-8982-fa5ac3364297",
   "metadata": {},
   "outputs": [],
   "source": [
    "# Keep only the adjusted close in the dataframe\n",
    "# Note that the date is in the index\n"
   ]
  },
  {
   "cell_type": "code",
   "execution_count": 4,
   "id": "4a892d78-11ac-4341-91e8-6a82c010e1cc",
   "metadata": {},
   "outputs": [],
   "source": [
    "# Calculate return using method pct_change\n",
    "# Find out more about .pct_change with help! \n"
   ]
  },
  {
   "cell_type": "code",
   "execution_count": 5,
   "id": "d4e264c7",
   "metadata": {},
   "outputs": [],
   "source": [
    "# function that takes portfolio weights and creates a time-series of daily portfolio returns\n",
    "def portfolio_return_series(daily_returns, weights):\n",
    "    \n",
    "    ''' \n",
    "    INPUTS\n",
    "    daily returns: dataframe of daily returns. Each ticker column contains the series of daily returns for the ticker\n",
    "    weights: numpy array of the portfolio weight on each ticker (sorted in ascending order)\n",
    "    \n",
    "    OUTPUTS\n",
    "    portfolio_daily_returns: the portfolio return series given the weights\n",
    "    \n",
    "    '''    \n",
    "\n",
    "    # Create portfolio daily returns\n",
    "\n",
    "    return portfolio_daily_returns"
   ]
  },
  {
   "cell_type": "code",
   "execution_count": 6,
   "id": "9d10239f",
   "metadata": {},
   "outputs": [],
   "source": [
    "## Install PyPortfolioOpt package\n",
    "# !pip install PyPortfolioOpt\n",
    "\n",
    "# Import the packages \n"
   ]
  },
  {
   "cell_type": "markdown",
   "id": "317271b9",
   "metadata": {},
   "source": [
    "The Maximum Sharpe Portfolio"
   ]
  },
  {
   "cell_type": "code",
   "execution_count": 7,
   "id": "c923fa43",
   "metadata": {},
   "outputs": [],
   "source": [
    "# Calculate expected returns mu \n",
    "\n",
    "\n",
    "# Calculate the covariance matrix S\n",
    "\n",
    "\n",
    "# Obtain the efficient frontier\n",
    "\n",
    "\n",
    "# Calculate weights for the maximum Sharpe ratio portfolio\n"
   ]
  },
  {
   "cell_type": "markdown",
   "id": "efadaf4a",
   "metadata": {},
   "source": [
    "The minimum volatility portfolio"
   ]
  },
  {
   "cell_type": "code",
   "execution_count": 8,
   "id": "bc4ce23f",
   "metadata": {},
   "outputs": [],
   "source": [
    "# Obtain the efficient frontier\n",
    "\n",
    "# Calculate weights for the minimum volatility portfolio\n"
   ]
  },
  {
   "cell_type": "code",
   "execution_count": 9,
   "id": "a55e9f72",
   "metadata": {},
   "outputs": [],
   "source": [
    "# 1. Daily portfolio returns for the equally-weighted portfolio\n",
    "\n",
    "# Extract the first element from the function output for daily returns\n",
    "\n",
    "# 2. Daily portfolio returns for the maximum Sharpe portfolio\n",
    "# Extract the first element from the function output for daily returns\n",
    "\n",
    "# 3. Daily portfolio returns for the minimum volatility portfolio\n",
    "# Extract the first element from the function output for daily returns\n",
    "\n",
    "# Merge the six series side-by-side into a dataframe\n",
    "# Note the index is date\n",
    "\n",
    "# Rename column names\n"
   ]
  },
  {
   "cell_type": "code",
   "execution_count": 10,
   "id": "2d419b3a",
   "metadata": {},
   "outputs": [],
   "source": [
    "# Inspect the last five observations of the portfolio_returns dataframe\n"
   ]
  },
  {
   "cell_type": "code",
   "execution_count": 11,
   "id": "48ed19ed",
   "metadata": {},
   "outputs": [],
   "source": [
    "# Read the csv file with factor returns with pd.read_csv()\n",
    "# Note: place the file where your Jupyter notebook is\n",
    "\n",
    "\n",
    "# Divide all factor returns by 100\n",
    "# Consistent with how we calculate portfolio returns\n"
   ]
  },
  {
   "cell_type": "markdown",
   "id": "79789a35",
   "metadata": {},
   "source": [
    "This file is from http://mba.tuck.dartmouth.edu/pages/faculty/ken.french/data_library.html#Research and is created by CMPT_ME_BEME_OP_INV_RETS_DAILY using the 202208 CRSP database. The 1-month TBill return is from Ibbotson and Associates. For more details on the factor returns, please read http://mba.tuck.dartmouth.edu/pages/faculty/ken.french/Data_Library/f-f_5_factors_2x3.html"
   ]
  },
  {
   "cell_type": "code",
   "execution_count": 12,
   "id": "dfa057c4",
   "metadata": {},
   "outputs": [],
   "source": [
    "# Inspect the dataframe with info()\n"
   ]
  },
  {
   "cell_type": "code",
   "execution_count": 13,
   "id": "06ebbb22",
   "metadata": {},
   "outputs": [],
   "source": [
    "# Inspect the last five observations\n"
   ]
  },
  {
   "cell_type": "code",
   "execution_count": 14,
   "id": "ac407485",
   "metadata": {},
   "outputs": [],
   "source": [
    "# Merge portfolio daily and cumulative returns with factor returns\n"
   ]
  },
  {
   "cell_type": "code",
   "execution_count": 15,
   "id": "d9103399",
   "metadata": {},
   "outputs": [],
   "source": [
    "# Inspect the last five observations\n"
   ]
  },
  {
   "cell_type": "code",
   "execution_count": 16,
   "id": "3d474aeb",
   "metadata": {},
   "outputs": [],
   "source": [
    "factors = ['Mkt-RF', 'SMB', 'HML', 'RMW', 'CMA']\n",
    "portfolio_return = ['portfolio_ew', 'portfolio_maxsharpe', 'portfolio_minvol']\n",
    "\n",
    "# Print correlation table. Hint use .corr()\n"
   ]
  },
  {
   "cell_type": "markdown",
   "id": "a146d5ef",
   "metadata": {},
   "source": [
    "### 2. Examine visually the correlation between portfolio and factor returns\n",
    "\n",
    "#### Hint: Write functions for repetitive lines of codes "
   ]
  },
  {
   "cell_type": "code",
   "execution_count": 17,
   "id": "f91fb2fd",
   "metadata": {},
   "outputs": [
    {
     "ename": "IndentationError",
     "evalue": "expected an indented block (4268343362.py, line 22)",
     "output_type": "error",
     "traceback": [
      "\u001b[1;36m  Input \u001b[1;32mIn [17]\u001b[1;36m\u001b[0m\n\u001b[1;33m    return\u001b[0m\n\u001b[1;37m    ^\u001b[0m\n\u001b[1;31mIndentationError\u001b[0m\u001b[1;31m:\u001b[0m expected an indented block\n"
     ]
    }
   ],
   "source": [
    "# function that takes portfolio and factor returns and creates 20-day rolling correlation with a return factor\n",
    "def portfolio_factor_correlation(portfolio_type, df):\n",
    "    \n",
    "    ''' \n",
    "    INPUTS\n",
    "    portfolio type: portfolio_ew, portfolio_maxsharpe, portfolio_minvol\n",
    "    df: dataframe containing portfolio and factor returns\n",
    "    \n",
    "    OUTPUTS\n",
    "    plot the 20-day rolling correlation between a portfolio and a factor return\n",
    "    \n",
    "    '''    \n",
    "    \n",
    "    for factor in factors:\n",
    "        \n",
    "        # Calculate 20-day rolling correlation with the market\n",
    "\n",
    "\n",
    "        # Plot the correlation between a portfolio and factor returns\n",
    "\n",
    "\n",
    "    return "
   ]
  },
  {
   "cell_type": "code",
   "execution_count": null,
   "id": "24dd412c",
   "metadata": {},
   "outputs": [],
   "source": [
    "# Call the function portfolio_factor_correlation for the equally weighted portfolio\n"
   ]
  },
  {
   "cell_type": "code",
   "execution_count": null,
   "id": "0772fb65",
   "metadata": {},
   "outputs": [],
   "source": [
    "# Call the function portfolio_factor_correlation for the maximum Sharpe portfolio\n"
   ]
  },
  {
   "cell_type": "code",
   "execution_count": null,
   "id": "cc471b97",
   "metadata": {},
   "outputs": [],
   "source": [
    "# Call the function portfolio_factor_correlation for the minimum volatility portfolio\n"
   ]
  },
  {
   "cell_type": "markdown",
   "id": "b6b44e3f",
   "metadata": {},
   "source": [
    "### 3. Regress the portfolio return on each factor and assess the portfolio's sensitivity to each factor.\n",
    "\n",
    "#### For the curious, optional challenge, how do you test whether the intercept (i.e., alpha) is significantly different from the risk-free rate for a single-factor regression?\n",
    "#### Hint: Write functions for repetitive lines of codes"
   ]
  },
  {
   "cell_type": "code",
   "execution_count": null,
   "id": "ff37d4bf",
   "metadata": {},
   "outputs": [],
   "source": [
    "# Import the ols function\n",
    "import statsmodels.api as sm\n",
    "\n",
    "# function that takes portfolio and factor returns and run a regression of portfolio return on a factor return\n",
    "# it reports the portfolio sensitivity to a return factor\n",
    "def portfolio_factor_sensitivity(portfolio_type, df):\n",
    "    \n",
    "    ''' \n",
    "    INPUTS\n",
    "    portfolio type: portfolio_ew, portfolio_maxsharpe, portfolio_minvol\n",
    "    df: dataframe containing portfolio and factor returns\n",
    "    \n",
    "    OUTPUTS\n",
    "    regression result of a portfolio on a return factor\n",
    "    \n",
    "    '''    \n",
    "    for factor in factors:\n",
    "        \n",
    "        # Create the regression model object\n",
    "\n",
    "        # Fit the model\n",
    "\n",
    "        # Print the parameters of the fitted model\n",
    "\n",
    "        # Optional challenge: testing the hypothesis that the intercept is significantly different from the risk-free rate\n",
    "        # Hint: F-test\n",
    "\n",
    "        \n",
    "    return "
   ]
  },
  {
   "cell_type": "code",
   "execution_count": null,
   "id": "d231c3b9",
   "metadata": {},
   "outputs": [],
   "source": [
    "# Call the function portfolio_factor_sensitivity for the equally weighted portfolio\n"
   ]
  },
  {
   "cell_type": "code",
   "execution_count": null,
   "id": "08439a18",
   "metadata": {},
   "outputs": [],
   "source": [
    "# Call the function portfolio_factor_sensitivity for the maximum Sharpe portfolio\n"
   ]
  },
  {
   "cell_type": "code",
   "execution_count": null,
   "id": "6810e075",
   "metadata": {},
   "outputs": [],
   "source": [
    "# Call the function portfolio_factor_sensitivity for minimum volatility portfolio\n"
   ]
  },
  {
   "cell_type": "markdown",
   "id": "b08fc60f",
   "metadata": {},
   "source": [
    "### 4. Regress the portfolio return on all factors and assess the portfolio's sensitivity to factors.\n",
    "\n",
    "#### For the curious, optional challenge, how do you test whether the intercept (i.e., alpha) is significantly different from the risk-free rate for a multi-factor regression?\n",
    "#### Hint: Write functions for repetitive lines of codes"
   ]
  },
  {
   "cell_type": "code",
   "execution_count": null,
   "id": "30a2e060",
   "metadata": {},
   "outputs": [],
   "source": [
    "# Import the ols function\n",
    "import statsmodels.api as sm\n",
    "\n",
    "# function that takes portfolio and factor returns and run a regression of portfolio return on a return factor\n",
    "# it reports the portfolio sensitivity to a return factor\n",
    "def portfolio_all_factor_sensitivity(portfolio_type, df):\n",
    "    \n",
    "    ''' \n",
    "    INPUTS\n",
    "    portfolio type: portfolio_ew, portfolio_maxsharpe, portfolio_minvol\n",
    "    df: dataframe containing portfolio and factor returns\n",
    "    \n",
    "    OUTPUTS\n",
    "    regression result of a portfolio on a return factor\n",
    "    \n",
    "    '''    \n",
    "        \n",
    "    # Create the model object\n",
    "\n",
    "    \n",
    "    # Fit the model\n",
    "\n",
    "    # Print the parameters of the fitted model\n",
    "    \n",
    "    # Optional challenge: testing the hypothesis that the intercept is significantly different from the risk-free rate\n",
    "    # Hint: F-test\n",
    "\n",
    "\n",
    "    return "
   ]
  },
  {
   "cell_type": "code",
   "execution_count": null,
   "id": "9082dc80",
   "metadata": {},
   "outputs": [],
   "source": [
    "# Call the function portfolio_all_factor_sensitivity for the equally weighted portfolio\n"
   ]
  },
  {
   "cell_type": "code",
   "execution_count": null,
   "id": "2d377f82",
   "metadata": {},
   "outputs": [],
   "source": [
    "# Call the function portfolio_all_factor_sensitivity for the maximum Sharpe portfolio\n"
   ]
  },
  {
   "cell_type": "code",
   "execution_count": null,
   "id": "b2395429",
   "metadata": {},
   "outputs": [],
   "source": [
    "# Call the function portfolio_all_factor_sensitivity for the minimum volatility portfolio\n"
   ]
  },
  {
   "cell_type": "markdown",
   "id": "8245e5fb",
   "metadata": {},
   "source": [
    "### 5. Optional Bonus. Construct a multi-factor pricing model for assets based on Arbitrage Pricing Theory.\n",
    "\n",
    "#### The Arbitrage Pricing Theory (APT) is a theory of asset pricing that holds that an asset’s returns can be forecasted with the linear relationship of an asset’s expected returns and the macroeconomic (e.g., GDP, changes in inflation, yield curve changes, changes in interest rates, market sentiments, exchange rates) or firm-specific statistical factors that affect the asset’s risk. Hint: You can draw these variables straight into your Jupyter notebook via Refinitiv API.\n",
    "\n",
    "#### The APT is a substitute for the Capital Asset Pricing Model (CAPM) in that both assert a linear relation between assets’ expected returns and their covariance with other random variables. (In the CAPM, the covariance is with the market portfolio’s return.) The covariance is interpreted as a measure of risk that investors cannot avoid by diversification. The slope coefficient in the linear relation between the expected returns and the covariance is interpreted as a risk premium ~ \"Arbitrage Pricing Theory (Guberman and Wang 2005)."
   ]
  },
  {
   "cell_type": "markdown",
   "id": "8e6e4ace",
   "metadata": {},
   "source": [
    "Acknowledgement: This notebook is inspired by DataCamp course \"Introduction to Portfolio Analysis in Python\" by Charlotte Werger."
   ]
  }
 ],
 "metadata": {
  "kernelspec": {
   "display_name": "Python 3 (ipykernel)",
   "language": "python",
   "name": "python3"
  },
  "language_info": {
   "codemirror_mode": {
    "name": "ipython",
    "version": 3
   },
   "file_extension": ".py",
   "mimetype": "text/x-python",
   "name": "python",
   "nbconvert_exporter": "python",
   "pygments_lexer": "ipython3",
   "version": "3.8.5"
  }
 },
 "nbformat": 4,
 "nbformat_minor": 5
}
