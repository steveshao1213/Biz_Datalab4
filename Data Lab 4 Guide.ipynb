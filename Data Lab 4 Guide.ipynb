{
 "cells": [
  {
   "cell_type": "markdown",
   "id": "aee8dacf",
   "metadata": {},
   "source": [
    "# Data lab 4 - Portfolio Performance Attribution and Factor Model\n",
    "\n",
    "#### Note 1: Review what you have learned in Data labs, DataCamp assignments, and in-class sample code.\n",
    "#### Note 2: Chapter \"Performance Attribution\" of DataCamp course \"Introduction to Portfolio Analysis in Python\"  is a useful reference.\n",
    "#### Note 3: This note serves as a guide. You are free to tinker with it! "
   ]
  },
  {
   "cell_type": "markdown",
   "id": "2e94cd08",
   "metadata": {},
   "source": [
    "### 1. Revisit the all-weather portfolio you crafted. Create the maximum Sharpe portfolio's daily return dataframe and then merge it with Fama French's five return factors.\n",
    "\n",
    "#### If you have attempted the optional bonus, why not include the portfolios with L2 regularization and Black-Litterman model too."
   ]
  },
  {
   "cell_type": "code",
   "execution_count": 1,
   "id": "36df558e-7777-4fc7-93f5-35f46697aa63",
   "metadata": {},
   "outputs": [],
   "source": [
    "# Import the necessary packages\n",
    "import yfinance as yf\n",
    "import datetime as dt \n",
    "import numpy as np\n",
    "import pandas as pd\n",
    "import matplotlib.pyplot as plt"
   ]
  },
  {
   "cell_type": "code",
   "execution_count": 7,
   "id": "d88a1500-97a6-4a5b-9325-59b011852086",
   "metadata": {},
   "outputs": [
    {
     "name": "stdout",
     "output_type": "stream",
     "text": [
      "[*********************100%***********************]  10 of 10 completed\n"
     ]
    },
    {
     "data": {
      "text/html": [
       "<div>\n",
       "<style scoped>\n",
       "    .dataframe tbody tr th:only-of-type {\n",
       "        vertical-align: middle;\n",
       "    }\n",
       "\n",
       "    .dataframe tbody tr th {\n",
       "        vertical-align: top;\n",
       "    }\n",
       "\n",
       "    .dataframe thead tr th {\n",
       "        text-align: left;\n",
       "    }\n",
       "\n",
       "    .dataframe thead tr:last-of-type th {\n",
       "        text-align: right;\n",
       "    }\n",
       "</style>\n",
       "<table border=\"1\" class=\"dataframe\">\n",
       "  <thead>\n",
       "    <tr>\n",
       "      <th></th>\n",
       "      <th colspan=\"10\" halign=\"left\">Adj Close</th>\n",
       "      <th>...</th>\n",
       "      <th colspan=\"10\" halign=\"left\">Volume</th>\n",
       "    </tr>\n",
       "    <tr>\n",
       "      <th></th>\n",
       "      <th>AAPL</th>\n",
       "      <th>AMT</th>\n",
       "      <th>COST</th>\n",
       "      <th>INFY</th>\n",
       "      <th>MDT</th>\n",
       "      <th>NEE</th>\n",
       "      <th>PG</th>\n",
       "      <th>UNH</th>\n",
       "      <th>UNP</th>\n",
       "      <th>V</th>\n",
       "      <th>...</th>\n",
       "      <th>AAPL</th>\n",
       "      <th>AMT</th>\n",
       "      <th>COST</th>\n",
       "      <th>INFY</th>\n",
       "      <th>MDT</th>\n",
       "      <th>NEE</th>\n",
       "      <th>PG</th>\n",
       "      <th>UNH</th>\n",
       "      <th>UNP</th>\n",
       "      <th>V</th>\n",
       "    </tr>\n",
       "    <tr>\n",
       "      <th>Date</th>\n",
       "      <th></th>\n",
       "      <th></th>\n",
       "      <th></th>\n",
       "      <th></th>\n",
       "      <th></th>\n",
       "      <th></th>\n",
       "      <th></th>\n",
       "      <th></th>\n",
       "      <th></th>\n",
       "      <th></th>\n",
       "      <th></th>\n",
       "      <th></th>\n",
       "      <th></th>\n",
       "      <th></th>\n",
       "      <th></th>\n",
       "      <th></th>\n",
       "      <th></th>\n",
       "      <th></th>\n",
       "      <th></th>\n",
       "      <th></th>\n",
       "      <th></th>\n",
       "    </tr>\n",
       "  </thead>\n",
       "  <tbody>\n",
       "    <tr>\n",
       "      <th>2017-10-02</th>\n",
       "      <td>36.493931</td>\n",
       "      <td>122.773079</td>\n",
       "      <td>154.681885</td>\n",
       "      <td>6.408523</td>\n",
       "      <td>69.926811</td>\n",
       "      <td>32.768726</td>\n",
       "      <td>80.058464</td>\n",
       "      <td>183.454224</td>\n",
       "      <td>103.758804</td>\n",
       "      <td>102.081436</td>\n",
       "      <td>...</td>\n",
       "      <td>74795200</td>\n",
       "      <td>1513400</td>\n",
       "      <td>2267100</td>\n",
       "      <td>10237800</td>\n",
       "      <td>4312900</td>\n",
       "      <td>4581200</td>\n",
       "      <td>7302400</td>\n",
       "      <td>2893600</td>\n",
       "      <td>3222200</td>\n",
       "      <td>4885600</td>\n",
       "    </tr>\n",
       "    <tr>\n",
       "      <th>2017-10-03</th>\n",
       "      <td>36.652905</td>\n",
       "      <td>123.495987</td>\n",
       "      <td>153.926605</td>\n",
       "      <td>6.351771</td>\n",
       "      <td>69.980576</td>\n",
       "      <td>32.802223</td>\n",
       "      <td>80.363785</td>\n",
       "      <td>184.559952</td>\n",
       "      <td>103.425720</td>\n",
       "      <td>102.226677</td>\n",
       "      <td>...</td>\n",
       "      <td>64921200</td>\n",
       "      <td>1885800</td>\n",
       "      <td>2839400</td>\n",
       "      <td>15808200</td>\n",
       "      <td>5866600</td>\n",
       "      <td>4008400</td>\n",
       "      <td>5909900</td>\n",
       "      <td>2533800</td>\n",
       "      <td>2783900</td>\n",
       "      <td>4411100</td>\n",
       "    </tr>\n",
       "    <tr>\n",
       "      <th>2017-10-04</th>\n",
       "      <td>36.415634</td>\n",
       "      <td>125.466026</td>\n",
       "      <td>154.047791</td>\n",
       "      <td>6.334310</td>\n",
       "      <td>70.446442</td>\n",
       "      <td>33.177391</td>\n",
       "      <td>80.625504</td>\n",
       "      <td>186.278946</td>\n",
       "      <td>102.417480</td>\n",
       "      <td>101.955559</td>\n",
       "      <td>...</td>\n",
       "      <td>80655200</td>\n",
       "      <td>1827000</td>\n",
       "      <td>1918600</td>\n",
       "      <td>10879200</td>\n",
       "      <td>5735200</td>\n",
       "      <td>4390400</td>\n",
       "      <td>6140700</td>\n",
       "      <td>2286400</td>\n",
       "      <td>3229600</td>\n",
       "      <td>4146800</td>\n",
       "    </tr>\n",
       "    <tr>\n",
       "      <th>2017-10-05</th>\n",
       "      <td>36.868820</td>\n",
       "      <td>125.836510</td>\n",
       "      <td>155.782196</td>\n",
       "      <td>6.338676</td>\n",
       "      <td>71.234848</td>\n",
       "      <td>32.996494</td>\n",
       "      <td>80.285278</td>\n",
       "      <td>183.881683</td>\n",
       "      <td>102.642548</td>\n",
       "      <td>102.855965</td>\n",
       "      <td>...</td>\n",
       "      <td>85135200</td>\n",
       "      <td>1965400</td>\n",
       "      <td>4715400</td>\n",
       "      <td>4980800</td>\n",
       "      <td>6323200</td>\n",
       "      <td>6817600</td>\n",
       "      <td>6912800</td>\n",
       "      <td>4069000</td>\n",
       "      <td>2811500</td>\n",
       "      <td>4396100</td>\n",
       "    </tr>\n",
       "    <tr>\n",
       "      <th>2017-10-06</th>\n",
       "      <td>36.847462</td>\n",
       "      <td>125.710030</td>\n",
       "      <td>146.476410</td>\n",
       "      <td>6.386695</td>\n",
       "      <td>71.503632</td>\n",
       "      <td>32.931747</td>\n",
       "      <td>80.546989</td>\n",
       "      <td>184.030350</td>\n",
       "      <td>102.579506</td>\n",
       "      <td>103.330345</td>\n",
       "      <td>...</td>\n",
       "      <td>69630400</td>\n",
       "      <td>1377200</td>\n",
       "      <td>18001200</td>\n",
       "      <td>4455800</td>\n",
       "      <td>3248500</td>\n",
       "      <td>5110800</td>\n",
       "      <td>5241900</td>\n",
       "      <td>3361900</td>\n",
       "      <td>2200100</td>\n",
       "      <td>4587000</td>\n",
       "    </tr>\n",
       "  </tbody>\n",
       "</table>\n",
       "<p>5 rows × 60 columns</p>\n",
       "</div>"
      ],
      "text/plain": [
       "            Adj Close                                                          \\\n",
       "                 AAPL         AMT        COST      INFY        MDT        NEE   \n",
       "Date                                                                            \n",
       "2017-10-02  36.493931  122.773079  154.681885  6.408523  69.926811  32.768726   \n",
       "2017-10-03  36.652905  123.495987  153.926605  6.351771  69.980576  32.802223   \n",
       "2017-10-04  36.415634  125.466026  154.047791  6.334310  70.446442  33.177391   \n",
       "2017-10-05  36.868820  125.836510  155.782196  6.338676  71.234848  32.996494   \n",
       "2017-10-06  36.847462  125.710030  146.476410  6.386695  71.503632  32.931747   \n",
       "\n",
       "                                                           ...    Volume  \\\n",
       "                   PG         UNH         UNP           V  ...      AAPL   \n",
       "Date                                                       ...             \n",
       "2017-10-02  80.058464  183.454224  103.758804  102.081436  ...  74795200   \n",
       "2017-10-03  80.363785  184.559952  103.425720  102.226677  ...  64921200   \n",
       "2017-10-04  80.625504  186.278946  102.417480  101.955559  ...  80655200   \n",
       "2017-10-05  80.285278  183.881683  102.642548  102.855965  ...  85135200   \n",
       "2017-10-06  80.546989  184.030350  102.579506  103.330345  ...  69630400   \n",
       "\n",
       "                                                                             \\\n",
       "                AMT      COST      INFY      MDT      NEE       PG      UNH   \n",
       "Date                                                                          \n",
       "2017-10-02  1513400   2267100  10237800  4312900  4581200  7302400  2893600   \n",
       "2017-10-03  1885800   2839400  15808200  5866600  4008400  5909900  2533800   \n",
       "2017-10-04  1827000   1918600  10879200  5735200  4390400  6140700  2286400   \n",
       "2017-10-05  1965400   4715400   4980800  6323200  6817600  6912800  4069000   \n",
       "2017-10-06  1377200  18001200   4455800  3248500  5110800  5241900  3361900   \n",
       "\n",
       "                              \n",
       "                UNP        V  \n",
       "Date                          \n",
       "2017-10-02  3222200  4885600  \n",
       "2017-10-03  2783900  4411100  \n",
       "2017-10-04  3229600  4146800  \n",
       "2017-10-05  2811500  4396100  \n",
       "2017-10-06  2200100  4587000  \n",
       "\n",
       "[5 rows x 60 columns]"
      ]
     },
     "execution_count": 7,
     "metadata": {},
     "output_type": "execute_result"
    }
   ],
   "source": [
    "# Pick a list of stocks that form your all-weather portfolio\n",
    "symbols_list = [\"AAPL\", \"PG\", \"NEE\", \"UNH\", \"UNP\", \"INFY\", \"COST\", \"MDT\", \"AMT\", \"V\"]\n",
    "# Draw data for the past five years\n",
    "start = dt.datetime(2017,10,1)\n",
    "end = dt.datetime(2022,10,1)\n",
    "data = yf.download(symbols_list, start=start, end=end)\n",
    "#Illustrative, change into yours!\n",
    "data.head(5)\n",
    "\n",
    "\n"
   ]
  },
  {
   "cell_type": "code",
   "execution_count": 8,
   "id": "ba37276e-d8ff-4209-8982-fa5ac3364297",
   "metadata": {},
   "outputs": [],
   "source": [
    "# Keep only the adjusted close in the dataframe\n",
    "# Note that the date is in the index\n",
    "price = data[\"Adj Close\"]"
   ]
  },
  {
   "cell_type": "code",
   "execution_count": 14,
   "id": "4a892d78-11ac-4341-91e8-6a82c010e1cc",
   "metadata": {},
   "outputs": [
    {
     "data": {
      "text/html": [
       "<div>\n",
       "<style scoped>\n",
       "    .dataframe tbody tr th:only-of-type {\n",
       "        vertical-align: middle;\n",
       "    }\n",
       "\n",
       "    .dataframe tbody tr th {\n",
       "        vertical-align: top;\n",
       "    }\n",
       "\n",
       "    .dataframe thead th {\n",
       "        text-align: right;\n",
       "    }\n",
       "</style>\n",
       "<table border=\"1\" class=\"dataframe\">\n",
       "  <thead>\n",
       "    <tr style=\"text-align: right;\">\n",
       "      <th></th>\n",
       "      <th>AAPL</th>\n",
       "      <th>AMT</th>\n",
       "      <th>COST</th>\n",
       "      <th>INFY</th>\n",
       "      <th>MDT</th>\n",
       "      <th>NEE</th>\n",
       "      <th>PG</th>\n",
       "      <th>UNH</th>\n",
       "      <th>UNP</th>\n",
       "      <th>V</th>\n",
       "    </tr>\n",
       "    <tr>\n",
       "      <th>Date</th>\n",
       "      <th></th>\n",
       "      <th></th>\n",
       "      <th></th>\n",
       "      <th></th>\n",
       "      <th></th>\n",
       "      <th></th>\n",
       "      <th></th>\n",
       "      <th></th>\n",
       "      <th></th>\n",
       "      <th></th>\n",
       "    </tr>\n",
       "  </thead>\n",
       "  <tbody>\n",
       "    <tr>\n",
       "      <th>2017-10-02</th>\n",
       "      <td>NaN</td>\n",
       "      <td>NaN</td>\n",
       "      <td>NaN</td>\n",
       "      <td>NaN</td>\n",
       "      <td>NaN</td>\n",
       "      <td>NaN</td>\n",
       "      <td>NaN</td>\n",
       "      <td>NaN</td>\n",
       "      <td>NaN</td>\n",
       "      <td>NaN</td>\n",
       "    </tr>\n",
       "    <tr>\n",
       "      <th>2017-10-03</th>\n",
       "      <td>0.004356</td>\n",
       "      <td>0.005888</td>\n",
       "      <td>-0.004883</td>\n",
       "      <td>-0.008856</td>\n",
       "      <td>0.000769</td>\n",
       "      <td>0.001022</td>\n",
       "      <td>0.003814</td>\n",
       "      <td>0.006027</td>\n",
       "      <td>-0.003210</td>\n",
       "      <td>0.001423</td>\n",
       "    </tr>\n",
       "    <tr>\n",
       "      <th>2017-10-04</th>\n",
       "      <td>-0.006473</td>\n",
       "      <td>0.015952</td>\n",
       "      <td>0.000787</td>\n",
       "      <td>-0.002749</td>\n",
       "      <td>0.006657</td>\n",
       "      <td>0.011437</td>\n",
       "      <td>0.003257</td>\n",
       "      <td>0.009314</td>\n",
       "      <td>-0.009748</td>\n",
       "      <td>-0.002652</td>\n",
       "    </tr>\n",
       "    <tr>\n",
       "      <th>2017-10-05</th>\n",
       "      <td>0.012445</td>\n",
       "      <td>0.002953</td>\n",
       "      <td>0.011259</td>\n",
       "      <td>0.000689</td>\n",
       "      <td>0.011192</td>\n",
       "      <td>-0.005452</td>\n",
       "      <td>-0.004220</td>\n",
       "      <td>-0.012869</td>\n",
       "      <td>0.002198</td>\n",
       "      <td>0.008831</td>\n",
       "    </tr>\n",
       "    <tr>\n",
       "      <th>2017-10-06</th>\n",
       "      <td>-0.000579</td>\n",
       "      <td>-0.001005</td>\n",
       "      <td>-0.059736</td>\n",
       "      <td>0.007576</td>\n",
       "      <td>0.003773</td>\n",
       "      <td>-0.001962</td>\n",
       "      <td>0.003260</td>\n",
       "      <td>0.000808</td>\n",
       "      <td>-0.000614</td>\n",
       "      <td>0.004612</td>\n",
       "    </tr>\n",
       "  </tbody>\n",
       "</table>\n",
       "</div>"
      ],
      "text/plain": [
       "                AAPL       AMT      COST      INFY       MDT       NEE  \\\n",
       "Date                                                                     \n",
       "2017-10-02       NaN       NaN       NaN       NaN       NaN       NaN   \n",
       "2017-10-03  0.004356  0.005888 -0.004883 -0.008856  0.000769  0.001022   \n",
       "2017-10-04 -0.006473  0.015952  0.000787 -0.002749  0.006657  0.011437   \n",
       "2017-10-05  0.012445  0.002953  0.011259  0.000689  0.011192 -0.005452   \n",
       "2017-10-06 -0.000579 -0.001005 -0.059736  0.007576  0.003773 -0.001962   \n",
       "\n",
       "                  PG       UNH       UNP         V  \n",
       "Date                                                \n",
       "2017-10-02       NaN       NaN       NaN       NaN  \n",
       "2017-10-03  0.003814  0.006027 -0.003210  0.001423  \n",
       "2017-10-04  0.003257  0.009314 -0.009748 -0.002652  \n",
       "2017-10-05 -0.004220 -0.012869  0.002198  0.008831  \n",
       "2017-10-06  0.003260  0.000808 -0.000614  0.004612  "
      ]
     },
     "execution_count": 14,
     "metadata": {},
     "output_type": "execute_result"
    }
   ],
   "source": [
    "# Calculate return using method pct_change\n",
    "# Find out more about .pct_change with help! \n",
    "daily_return = price.pct_change()\n",
    "daily_return.head(5)"
   ]
  },
  {
   "cell_type": "code",
   "execution_count": 15,
   "id": "d4e264c7",
   "metadata": {},
   "outputs": [],
   "source": [
    "# function that takes portfolio weights and creates a time-series of daily portfolio returns\n",
    "def portfolio_return_series(daily_returns, weights):\n",
    "    \n",
    "    ''' \n",
    "    INPUTS\n",
    "    daily returns: dataframe of daily returns. Each ticker column contains the series of daily returns for the ticker\n",
    "    weights: numpy array of the portfolio weight on each ticker (sorted in ascending order)\n",
    "    \n",
    "    OUTPUTS\n",
    "    portfolio_daily_returns: the portfolio return series given the weights\n",
    "    \n",
    "    '''    \n",
    "    \n",
    "    # Create portfolio daily returns\n",
    "    portfolio_daily_returns = daily_returns.dot(weights)\n",
    "    return portfolio_daily_returns"
   ]
  },
  {
   "cell_type": "code",
   "execution_count": 13,
   "id": "9d10239f",
   "metadata": {},
   "outputs": [],
   "source": [
    "## Install PyPortfolioOpt package\n",
    "# !pip install PyPortfolioOpt\n",
    "\n",
    "# Import the packages \n",
    "from pypfopt.expected_returns import mean_historical_return\n",
    "from pypfopt.risk_models import CovarianceShrinkage\n",
    "from pypfopt.efficient_frontier import EfficientFrontier\n",
    "from pypfopt import risk_models\n",
    "from pypfopt import expected_returns"
   ]
  },
  {
   "cell_type": "markdown",
   "id": "317271b9",
   "metadata": {},
   "source": [
    "The Maximum Sharpe Portfolio"
   ]
  },
  {
   "cell_type": "code",
   "execution_count": 7,
   "id": "c923fa43",
   "metadata": {},
   "outputs": [],
   "source": [
    "# Calculate expected returns mu \n",
    "\n",
    "\n",
    "# Calculate the covariance matrix S\n",
    "\n",
    "\n",
    "# Obtain the efficient frontier\n",
    "\n",
    "\n",
    "# Calculate weights for the maximum Sharpe ratio portfolio\n"
   ]
  },
  {
   "cell_type": "markdown",
   "id": "efadaf4a",
   "metadata": {},
   "source": [
    "The minimum volatility portfolio"
   ]
  },
  {
   "cell_type": "code",
   "execution_count": 8,
   "id": "bc4ce23f",
   "metadata": {},
   "outputs": [],
   "source": [
    "# Obtain the efficient frontier\n",
    "\n",
    "# Calculate weights for the minimum volatility portfolio\n"
   ]
  },
  {
   "cell_type": "code",
   "execution_count": 9,
   "id": "a55e9f72",
   "metadata": {},
   "outputs": [],
   "source": [
    "# 1. Daily portfolio returns for the equally-weighted portfolio\n",
    "\n",
    "# Extract the first element from the function output for daily returns\n",
    "\n",
    "# 2. Daily portfolio returns for the maximum Sharpe portfolio\n",
    "# Extract the first element from the function output for daily returns\n",
    "\n",
    "# 3. Daily portfolio returns for the minimum volatility portfolio\n",
    "# Extract the first element from the function output for daily returns\n",
    "\n",
    "# Merge the six series side-by-side into a dataframe\n",
    "# Note the index is date\n",
    "\n",
    "# Rename column names\n"
   ]
  },
  {
   "cell_type": "code",
   "execution_count": 10,
   "id": "2d419b3a",
   "metadata": {},
   "outputs": [],
   "source": [
    "# Inspect the last five observations of the portfolio_returns dataframe\n"
   ]
  },
  {
   "cell_type": "code",
   "execution_count": 11,
   "id": "48ed19ed",
   "metadata": {},
   "outputs": [],
   "source": [
    "# Read the csv file with factor returns with pd.read_csv()\n",
    "# Note: place the file where your Jupyter notebook is\n",
    "\n",
    "\n",
    "# Divide all factor returns by 100\n",
    "# Consistent with how we calculate portfolio returns\n"
   ]
  },
  {
   "cell_type": "markdown",
   "id": "79789a35",
   "metadata": {},
   "source": [
    "This file is from http://mba.tuck.dartmouth.edu/pages/faculty/ken.french/data_library.html#Research and is created by CMPT_ME_BEME_OP_INV_RETS_DAILY using the 202208 CRSP database. The 1-month TBill return is from Ibbotson and Associates. For more details on the factor returns, please read http://mba.tuck.dartmouth.edu/pages/faculty/ken.french/Data_Library/f-f_5_factors_2x3.html"
   ]
  },
  {
   "cell_type": "code",
   "execution_count": 12,
   "id": "dfa057c4",
   "metadata": {},
   "outputs": [],
   "source": [
    "# Inspect the dataframe with info()\n"
   ]
  },
  {
   "cell_type": "code",
   "execution_count": 13,
   "id": "06ebbb22",
   "metadata": {},
   "outputs": [],
   "source": [
    "# Inspect the last five observations\n"
   ]
  },
  {
   "cell_type": "code",
   "execution_count": 14,
   "id": "ac407485",
   "metadata": {},
   "outputs": [],
   "source": [
    "# Merge portfolio daily and cumulative returns with factor returns\n"
   ]
  },
  {
   "cell_type": "code",
   "execution_count": 15,
   "id": "d9103399",
   "metadata": {},
   "outputs": [],
   "source": [
    "# Inspect the last five observations\n"
   ]
  },
  {
   "cell_type": "code",
   "execution_count": 16,
   "id": "3d474aeb",
   "metadata": {},
   "outputs": [],
   "source": [
    "factors = ['Mkt-RF', 'SMB', 'HML', 'RMW', 'CMA']\n",
    "portfolio_return = ['portfolio_ew', 'portfolio_maxsharpe', 'portfolio_minvol']\n",
    "\n",
    "# Print correlation table. Hint use .corr()\n"
   ]
  },
  {
   "cell_type": "markdown",
   "id": "a146d5ef",
   "metadata": {},
   "source": [
    "### 2. Examine visually the correlation between portfolio and factor returns\n",
    "\n",
    "#### Hint: Write functions for repetitive lines of codes "
   ]
  },
  {
   "cell_type": "code",
   "execution_count": 17,
   "id": "f91fb2fd",
   "metadata": {},
   "outputs": [
    {
     "ename": "IndentationError",
     "evalue": "expected an indented block (4268343362.py, line 22)",
     "output_type": "error",
     "traceback": [
      "\u001b[1;36m  Input \u001b[1;32mIn [17]\u001b[1;36m\u001b[0m\n\u001b[1;33m    return\u001b[0m\n\u001b[1;37m    ^\u001b[0m\n\u001b[1;31mIndentationError\u001b[0m\u001b[1;31m:\u001b[0m expected an indented block\n"
     ]
    }
   ],
   "source": [
    "# function that takes portfolio and factor returns and creates 20-day rolling correlation with a return factor\n",
    "def portfolio_factor_correlation(portfolio_type, df):\n",
    "    \n",
    "    ''' \n",
    "    INPUTS\n",
    "    portfolio type: portfolio_ew, portfolio_maxsharpe, portfolio_minvol\n",
    "    df: dataframe containing portfolio and factor returns\n",
    "    \n",
    "    OUTPUTS\n",
    "    plot the 20-day rolling correlation between a portfolio and a factor return\n",
    "    \n",
    "    '''    \n",
    "    \n",
    "    for factor in factors:\n",
    "        \n",
    "        # Calculate 20-day rolling correlation with the market\n",
    "\n",
    "\n",
    "        # Plot the correlation between a portfolio and factor returns\n",
    "\n",
    "\n",
    "    return "
   ]
  },
  {
   "cell_type": "code",
   "execution_count": null,
   "id": "24dd412c",
   "metadata": {},
   "outputs": [],
   "source": [
    "# Call the function portfolio_factor_correlation for the equally weighted portfolio\n"
   ]
  },
  {
   "cell_type": "code",
   "execution_count": null,
   "id": "0772fb65",
   "metadata": {},
   "outputs": [],
   "source": [
    "# Call the function portfolio_factor_correlation for the maximum Sharpe portfolio\n"
   ]
  },
  {
   "cell_type": "code",
   "execution_count": null,
   "id": "cc471b97",
   "metadata": {},
   "outputs": [],
   "source": [
    "# Call the function portfolio_factor_correlation for the minimum volatility portfolio\n"
   ]
  },
  {
   "cell_type": "markdown",
   "id": "b6b44e3f",
   "metadata": {},
   "source": [
    "### 3. Regress the portfolio return on each factor and assess the portfolio's sensitivity to each factor.\n",
    "\n",
    "#### For the curious, optional challenge, how do you test whether the intercept (i.e., alpha) is significantly different from the risk-free rate for a single-factor regression?\n",
    "#### Hint: Write functions for repetitive lines of codes"
   ]
  },
  {
   "cell_type": "code",
   "execution_count": null,
   "id": "ff37d4bf",
   "metadata": {},
   "outputs": [],
   "source": [
    "# Import the ols function\n",
    "import statsmodels.api as sm\n",
    "\n",
    "# function that takes portfolio and factor returns and run a regression of portfolio return on a factor return\n",
    "# it reports the portfolio sensitivity to a return factor\n",
    "def portfolio_factor_sensitivity(portfolio_type, df):\n",
    "    \n",
    "    ''' \n",
    "    INPUTS\n",
    "    portfolio type: portfolio_ew, portfolio_maxsharpe, portfolio_minvol\n",
    "    df: dataframe containing portfolio and factor returns\n",
    "    \n",
    "    OUTPUTS\n",
    "    regression result of a portfolio on a return factor\n",
    "    \n",
    "    '''    \n",
    "    for factor in factors:\n",
    "        \n",
    "        # Create the regression model object\n",
    "\n",
    "        # Fit the model\n",
    "\n",
    "        # Print the parameters of the fitted model\n",
    "\n",
    "        # Optional challenge: testing the hypothesis that the intercept is significantly different from the risk-free rate\n",
    "        # Hint: F-test\n",
    "\n",
    "        \n",
    "    return "
   ]
  },
  {
   "cell_type": "code",
   "execution_count": null,
   "id": "d231c3b9",
   "metadata": {},
   "outputs": [],
   "source": [
    "# Call the function portfolio_factor_sensitivity for the equally weighted portfolio\n"
   ]
  },
  {
   "cell_type": "code",
   "execution_count": null,
   "id": "08439a18",
   "metadata": {},
   "outputs": [],
   "source": [
    "# Call the function portfolio_factor_sensitivity for the maximum Sharpe portfolio\n"
   ]
  },
  {
   "cell_type": "code",
   "execution_count": null,
   "id": "6810e075",
   "metadata": {},
   "outputs": [],
   "source": [
    "# Call the function portfolio_factor_sensitivity for minimum volatility portfolio\n"
   ]
  },
  {
   "cell_type": "markdown",
   "id": "b08fc60f",
   "metadata": {},
   "source": [
    "### 4. Regress the portfolio return on all factors and assess the portfolio's sensitivity to factors.\n",
    "\n",
    "#### For the curious, optional challenge, how do you test whether the intercept (i.e., alpha) is significantly different from the risk-free rate for a multi-factor regression?\n",
    "#### Hint: Write functions for repetitive lines of codes"
   ]
  },
  {
   "cell_type": "code",
   "execution_count": null,
   "id": "30a2e060",
   "metadata": {},
   "outputs": [],
   "source": [
    "# Import the ols function\n",
    "import statsmodels.api as sm\n",
    "\n",
    "# function that takes portfolio and factor returns and run a regression of portfolio return on a return factor\n",
    "# it reports the portfolio sensitivity to a return factor\n",
    "def portfolio_all_factor_sensitivity(portfolio_type, df):\n",
    "    \n",
    "    ''' \n",
    "    INPUTS\n",
    "    portfolio type: portfolio_ew, portfolio_maxsharpe, portfolio_minvol\n",
    "    df: dataframe containing portfolio and factor returns\n",
    "    \n",
    "    OUTPUTS\n",
    "    regression result of a portfolio on a return factor\n",
    "    \n",
    "    '''    \n",
    "        \n",
    "    # Create the model object\n",
    "\n",
    "    \n",
    "    # Fit the model\n",
    "\n",
    "    # Print the parameters of the fitted model\n",
    "    \n",
    "    # Optional challenge: testing the hypothesis that the intercept is significantly different from the risk-free rate\n",
    "    # Hint: F-test\n",
    "\n",
    "\n",
    "    return "
   ]
  },
  {
   "cell_type": "code",
   "execution_count": null,
   "id": "9082dc80",
   "metadata": {},
   "outputs": [],
   "source": [
    "# Call the function portfolio_all_factor_sensitivity for the equally weighted portfolio\n"
   ]
  },
  {
   "cell_type": "code",
   "execution_count": null,
   "id": "2d377f82",
   "metadata": {},
   "outputs": [],
   "source": [
    "# Call the function portfolio_all_factor_sensitivity for the maximum Sharpe portfolio\n"
   ]
  },
  {
   "cell_type": "code",
   "execution_count": null,
   "id": "b2395429",
   "metadata": {},
   "outputs": [],
   "source": [
    "# Call the function portfolio_all_factor_sensitivity for the minimum volatility portfolio\n"
   ]
  },
  {
   "cell_type": "markdown",
   "id": "8245e5fb",
   "metadata": {},
   "source": [
    "### 5. Optional Bonus. Construct a multi-factor pricing model for assets based on Arbitrage Pricing Theory.\n",
    "\n",
    "#### The Arbitrage Pricing Theory (APT) is a theory of asset pricing that holds that an asset’s returns can be forecasted with the linear relationship of an asset’s expected returns and the macroeconomic (e.g., GDP, changes in inflation, yield curve changes, changes in interest rates, market sentiments, exchange rates) or firm-specific statistical factors that affect the asset’s risk. Hint: You can draw these variables straight into your Jupyter notebook via Refinitiv API.\n",
    "\n",
    "#### The APT is a substitute for the Capital Asset Pricing Model (CAPM) in that both assert a linear relation between assets’ expected returns and their covariance with other random variables. (In the CAPM, the covariance is with the market portfolio’s return.) The covariance is interpreted as a measure of risk that investors cannot avoid by diversification. The slope coefficient in the linear relation between the expected returns and the covariance is interpreted as a risk premium ~ \"Arbitrage Pricing Theory (Guberman and Wang 2005)."
   ]
  },
  {
   "cell_type": "markdown",
   "id": "8e6e4ace",
   "metadata": {},
   "source": [
    "Acknowledgement: This notebook is inspired by DataCamp course \"Introduction to Portfolio Analysis in Python\" by Charlotte Werger."
   ]
  }
 ],
 "metadata": {
  "kernelspec": {
   "display_name": "Python 3.9.13 ('base')",
   "language": "python",
   "name": "python3"
  },
  "language_info": {
   "codemirror_mode": {
    "name": "ipython",
    "version": 3
   },
   "file_extension": ".py",
   "mimetype": "text/x-python",
   "name": "python",
   "nbconvert_exporter": "python",
   "pygments_lexer": "ipython3",
   "version": "3.9.13"
  },
  "vscode": {
   "interpreter": {
    "hash": "40d3a090f54c6569ab1632332b64b2c03c39dcf918b08424e98f38b5ae0af88f"
   }
  }
 },
 "nbformat": 4,
 "nbformat_minor": 5
}
